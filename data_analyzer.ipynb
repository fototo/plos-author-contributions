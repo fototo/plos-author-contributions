{
 "metadata": {
  "name": "data_analyzer"
 },
 "nbformat": 3,
 "nbformat_minor": 0,
 "worksheets": [
  {
   "cells": [
    {
     "cell_type": "code",
     "collapsed": false,
     "input": [
      "import csv"
     ],
     "language": "python",
     "metadata": {},
     "outputs": [],
     "prompt_number": 18
    },
    {
     "cell_type": "code",
     "collapsed": false,
     "input": [
      "data = [];\n",
      "unique_dois = []\n",
      "\n",
      "roles = ['Conceived and designed the experiments', 'Performed the experiments', 'Analyzed the data', 'Contributed reagents/materials/analysis tools', 'Wrote the paper']\n",
      "int_fields = ['Author Position', 'Conceived and designed the experiments', 'Performed the experiments', 'Analyzed the data', 'Contributed reagents/materials/analysis tools', 'Wrote the paper']\n",
      "with open('data/plos_author_contributions.csv', 'rb') as f:\n",
      "    csvreader = csv.reader(f, delimiter=',')\n",
      "    headers = csvreader.next()\n",
      "    for row in csvreader:\n",
      "        dummy = {el:row[el_i] for el_i, el in enumerate(headers)}\n",
      "        data.append(dummy)\n",
      "        \n",
      "        unique_dois.append(dummy['DOI'])\n",
      "        \n",
      "unique_dois = set(unique_dois)\n",
      "        \n",
      "for ds_i, ds in enumerate(data):\n",
      "    for key in ds.keys():\n",
      "        if key in int_fields:\n",
      "            if len(ds[key])>0 and ds[key] != ',':\n",
      "                data[ds_i][key] = int(ds[key])\n",
      "            else:\n",
      "                # set Author Position to Zero if position wasn't detected\n",
      "                data[ds_i][key] = 0"
     ],
     "language": "python",
     "metadata": {},
     "outputs": [],
     "prompt_number": 19
    },
    {
     "cell_type": "code",
     "collapsed": false,
     "input": [
      "print headers\n",
      "print len(unique_dois)\n",
      "data[0]"
     ],
     "language": "python",
     "metadata": {},
     "outputs": [
      {
       "output_type": "stream",
       "stream": "stdout",
       "text": [
        "['DOI', 'Time', 'Author Position', 'Author Name', 'Initials', 'Conceived and designed the experiments', 'Performed the experiments', 'Analyzed the data', 'Contributed reagents/materials/analysis tools', 'Wrote the paper']\n",
        "10512\n"
       ]
      },
      {
       "output_type": "pyout",
       "prompt_number": 20,
       "text": [
        "{'Analyzed the data': 1,\n",
        " 'Author Name': 'Olga Pantos',\n",
        " 'Author Position': 1,\n",
        " 'Conceived and designed the experiments': 1,\n",
        " 'Contributed reagents/materials/analysis tools': 1,\n",
        " 'DOI': '10.1371/journal.pone.0020946',\n",
        " 'Initials': 'OP',\n",
        " 'Performed the experiments': 1,\n",
        " 'Time': '2011-06-14T00:00:00Z',\n",
        " 'Wrote the paper': 1}"
       ]
      }
     ],
     "prompt_number": 20
    },
    {
     "cell_type": "heading",
     "level": 3,
     "metadata": {},
     "source": [
      "Correlation of being first author and writing paper"
     ]
    },
    {
     "cell_type": "code",
     "collapsed": false,
     "input": [
      "no_first_authors = sum(1 for ds in data if ds['Author Position'] == 1)\n",
      "no_first_authors_that_wrote = sum(1 for ds in data if ds['Author Position'] == 1 and ds['Wrote the paper'] == 1)\n",
      "no_first_authors_no_position = sum(1 for ds in data if ds['Author Position'] == 0 and ds['Wrote the paper'] == 1)\n",
      "no_undetected_position = sum(1 for ds in data if ds['Author Position'] == 0)\n",
      "\n",
      "print 'Number of first authors:',no_first_authors\n",
      "print 'Number of first authors that also wrote the paper:',no_first_authors_that_wrote\n",
      "print 'Number of first authors, no position detected:',no_first_authors_no_position\n",
      "print 'No author position detected:', no_undetected_position"
     ],
     "language": "python",
     "metadata": {},
     "outputs": [
      {
       "output_type": "stream",
       "stream": "stdout",
       "text": [
        "Number of first authors: 8562\n",
        "Number of first authors that also wrote the paper: 7654\n",
        "Number of first authors, no position detected: 5909\n",
        "No author position detected: 12637\n"
       ]
      }
     ],
     "prompt_number": 21
    },
    {
     "cell_type": "heading",
     "level": 3,
     "metadata": {},
     "source": [
      "Authors that contribute material and not to any of the other standard roles"
     ]
    },
    {
     "cell_type": "code",
     "collapsed": false,
     "input": [
      "non_material_roles = ['Conceived and designed the experiments', 'Performed the experiments', 'Analyzed the data', 'Wrote the paper']\n",
      "no_material_contributors = sum(1 for ds in data if ds['Contributed reagents/materials/analysis tools'] == 1 and all([ds[role] == 0 for role in non_material_roles]))\n",
      "\n",
      "print 'Number of authors that only contributed material',no_material_contributors\n",
      "print 'Number of papers',len(unique_dois)"
     ],
     "language": "python",
     "metadata": {},
     "outputs": [
      {
       "output_type": "stream",
       "stream": "stdout",
       "text": [
        "Number of authors that only contributed material 5732\n",
        "Number of papers 10512\n"
       ]
      }
     ],
     "prompt_number": 31
    },
    {
     "cell_type": "heading",
     "level": 3,
     "metadata": {},
     "source": [
      "First authors that wrote the paper and didn't contribute to another standard role"
     ]
    },
    {
     "cell_type": "code",
     "collapsed": false,
     "input": [
      "non_writing_roles = ['Conceived and designed the experiments', 'Performed the experiments', 'Analyzed the data', 'Contributed reagents/materials/analysis tools']\n",
      "no_first_authors_no_other = sum(1 for ds in data if ds['Author Position'] == 1 and ds['Wrote the paper'] == 1 and all([ds[role]==0 for role in non_writing_roles]))\n",
      "\n",
      "print no_first_authors_no_other\n",
      "\n",
      "with open('data/first_author_writes_but_other_standard_role.txt', 'w') as f:\n",
      "    dois = []\n",
      "    for ds in data:\n",
      "        if ds['Author Position'] == 1 and ds['Wrote the paper'] == 1 and all([ds[role]==0 for role in non_writing_roles]):\n",
      "            dois.append(ds['DOI'])\n",
      "            \n",
      "    for doi in dois:\n",
      "        f.write(doi)\n",
      "        f.write('\\n')"
     ],
     "language": "python",
     "metadata": {},
     "outputs": [
      {
       "output_type": "stream",
       "stream": "stdout",
       "text": [
        "37\n"
       ]
      }
     ],
     "prompt_number": 36
    },
    {
     "cell_type": "code",
     "collapsed": false,
     "input": [
      "ctr = 0\n",
      "for ds in data:\n",
      "    if ds['Author Position'] == 1 and ds['Wrote the paper'] == 1 and all([ds[role]==0 for role in non_writing_roles]):\n",
      "        print ds"
     ],
     "language": "python",
     "metadata": {},
     "outputs": [
      {
       "output_type": "stream",
       "stream": "stdout",
       "text": [
        "{'Conceived and designed the experiments': 0, 'DOI': '10.1371/journal.pcbi.1000230', 'Performed the experiments': 0, 'Wrote the paper': 1, 'Author Position': 1, 'Time': '2008-11-28T00:00:00Z', 'Analyzed the data': 0, 'Contributed reagents/materials/analysis tools': 0, 'Author Name': 'Adam B Barrett', 'Initials': 'ABB'}\n",
        "{'Conceived and designed the experiments': 0, 'DOI': '10.1371/journal.pone.0014572', 'Performed the experiments': 0, 'Wrote the paper': 1, 'Author Position': 1, 'Time': '2011-01-26T00:00:00Z', 'Analyzed the data': 0, 'Contributed reagents/materials/analysis tools': 0, 'Author Name': 'Diego Pol', 'Initials': 'DP'}\n",
        "{'Conceived and designed the experiments': 0, 'DOI': '10.1371/journal.pone.0014589', 'Performed the experiments': 0, 'Wrote the paper': 1, 'Author Position': 1, 'Time': '2011-01-25T00:00:00Z', 'Analyzed the data': 0, 'Contributed reagents/materials/analysis tools': 0, 'Author Name': 'Damian Scarf', 'Initials': 'DS'}\n",
        "{'Conceived and designed the experiments': 0, 'DOI': '10.1371/journal.pone.0019853', 'Performed the experiments': 0, 'Wrote the paper': 1, 'Author Position': 1, 'Time': '2011-05-16T00:00:00Z', 'Analyzed the data': 0, 'Contributed reagents/materials/analysis tools': 0, 'Author Name': 'Laurel Mariah Carnes', 'Initials': 'LMC'}\n",
        "{'Conceived and designed the experiments': 0, 'DOI': '10.1371/journal.pone.0043676', 'Performed the experiments': 0, 'Wrote the paper': 1, 'Author Position': 1, 'Time': '2012-08-24T00:00:00Z', 'Analyzed the data': 0, 'Contributed reagents/materials/analysis tools': 0, 'Author Name': 'Shiva Kumar', 'Initials': 'SK'}\n",
        "{'Conceived and designed the experiments': 0, 'DOI': '10.1371/journal.pone.0047990', 'Performed the experiments': 0, 'Wrote the paper': 1, 'Author Position': 1, 'Time': '2012-10-31T00:00:00Z', 'Analyzed the data': 0, 'Contributed reagents/materials/analysis tools': 0, 'Author Name': 'Ming Yang', 'Initials': 'MY'}\n",
        "{'Conceived and designed the experiments': 0, 'DOI': '10.1371/journal.pone.0043851', 'Performed the experiments': 0, 'Wrote the paper': 1, 'Author Position': 1, 'Time': '2012-09-27T00:00:00Z', 'Analyzed the data': 0, 'Contributed reagents/materials/analysis tools': 0, 'Author Name': 'Peter M Rabinowitz', 'Initials': 'PMR'}\n",
        "{'Conceived and designed the experiments': 0, 'DOI': '10.1371/journal.pone.0033930', 'Performed the experiments': 0, 'Wrote the paper': 1, 'Author Position': 1, 'Time': '2012-04-16T00:00:00Z', 'Analyzed the data': 0, 'Contributed reagents/materials/analysis tools': 0, 'Author Name': 'Niels Rutten', 'Initials': 'NR'}\n",
        "{'Conceived and designed the experiments': 0, 'DOI': '10.1371/journal.pcbi.1001058', 'Performed the experiments': 0, 'Wrote the paper': 1, 'Author Position': 1, 'Time': '2011-02-03T00:00:00Z', 'Analyzed the data': 0, 'Contributed reagents/materials/analysis tools': 0, 'Author Name': 'John E Pearson', 'Initials': 'JEP'}\n",
        "{'Conceived and designed the experiments': 0, 'DOI': '10.1371/journal.pone.0032198', 'Performed the experiments': 0, 'Wrote the paper': 1, 'Author Position': 1, 'Time': '2012-03-19T00:00:00Z', 'Analyzed the data': 0, 'Contributed reagents/materials/analysis tools': 0, 'Author Name': 'Ioanna Louvrou', 'Initials': 'IL'}"
       ]
      },
      {
       "output_type": "stream",
       "stream": "stdout",
       "text": [
        "\n",
        "{'Conceived and designed the experiments': 0, 'DOI': '10.1371/journal.pone.0024808', 'Performed the experiments': 0, 'Wrote the paper': 1, 'Author Position': 1, 'Time': '2011-11-16T00:00:00Z', 'Analyzed the data': 0, 'Contributed reagents/materials/analysis tools': 0, 'Author Name': 'Florian Geier', 'Initials': 'FG'}\n",
        "{'Conceived and designed the experiments': 0, 'DOI': '10.1371/journal.pone.0019014', 'Performed the experiments': 0, 'Wrote the paper': 1, 'Author Position': 1, 'Time': '2011-05-09T00:00:00Z', 'Analyzed the data': 0, 'Contributed reagents/materials/analysis tools': 0, 'Author Name': 'Kuiying Deng', 'Initials': 'KD'}\n",
        "{'Conceived and designed the experiments': 0, 'DOI': '10.1371/journal.pone.0013326', 'Performed the experiments': 0, 'Wrote the paper': 1, 'Author Position': 1, 'Time': '2010-10-18T00:00:00Z', 'Analyzed the data': 0, 'Contributed reagents/materials/analysis tools': 0, 'Author Name': 'Kim Sneppen', 'Initials': 'KS'}\n",
        "{'Conceived and designed the experiments': 0, 'DOI': '10.1371/journal.pone.0050430', 'Performed the experiments': 0, 'Wrote the paper': 1, 'Author Position': 1, 'Time': '2012-11-21T00:00:00Z', 'Analyzed the data': 0, 'Contributed reagents/materials/analysis tools': 0, 'Author Name': 'Kathryn A Thibert', 'Initials': 'KAT'}\n",
        "{'Conceived and designed the experiments': 0, 'DOI': '10.1371/journal.pcbi.1002197', 'Performed the experiments': 0, 'Wrote the paper': 1, 'Author Position': 1, 'Time': '2011-10-06T00:00:00Z', 'Analyzed the data': 0, 'Contributed reagents/materials/analysis tools': 0, 'Author Name': 'Beata Hat', 'Initials': 'BH'}\n",
        "{'Conceived and designed the experiments': 0, 'DOI': '10.1371/journal.pone.0012956', 'Performed the experiments': 0, 'Wrote the paper': 1, 'Author Position': 1, 'Time': '2010-09-23T00:00:00Z', 'Analyzed the data': 0, 'Contributed reagents/materials/analysis tools': 0, 'Author Name': 'Juan Carlos Rando', 'Initials': 'JCR'}\n",
        "{'Conceived and designed the experiments': 0, 'DOI': '10.1371/journal.pone.0058690', 'Performed the experiments': 0, 'Wrote the paper': 1, 'Author Position': 1, 'Time': '2013-03-26T00:00:00Z', 'Analyzed the data': 0, 'Contributed reagents/materials/analysis tools': 0, 'Author Name': 'Ruoh-Lih Lei', 'Initials': 'R-LL'}\n",
        "{'Conceived and designed the experiments': 0, 'DOI': '10.1371/journal.pone.0060064', 'Performed the experiments': 0, 'Wrote the paper': 1, 'Author Position': 1, 'Time': '2013-04-08T00:00:00Z', 'Analyzed the data': 0, 'Contributed reagents/materials/analysis tools': 0, 'Author Name': 'Sabine Fischer', 'Initials': 'SF'}\n",
        "{'Conceived and designed the experiments': 0, 'DOI': '10.1371/journal.pone.0049875', 'Performed the experiments': 0, 'Wrote the paper': 1, 'Author Position': 1, 'Time': '2012-11-27T00:00:00Z', 'Analyzed the data': 0, 'Contributed reagents/materials/analysis tools': 0, 'Author Name': 'Wenjia Meng', 'Initials': 'WM'}\n",
        "{'Conceived and designed the experiments': 0, 'DOI': '10.1371/journal.pone.0024243', 'Performed the experiments': 0, 'Wrote the paper': 1, 'Author Position': 1, 'Time': '2012-03-20T00:00:00Z', 'Analyzed the data': 0, 'Contributed reagents/materials/analysis tools': 0, 'Author Name': 'Lotty Ledwaba', 'Initials': 'LL'}"
       ]
      },
      {
       "output_type": "stream",
       "stream": "stdout",
       "text": [
        "\n",
        "{'Conceived and designed the experiments': 0, 'DOI': '10.1371/journal.pone.0024265', 'Performed the experiments': 0, 'Wrote the paper': 1, 'Author Position': 1, 'Time': '2011-09-07T00:00:00Z', 'Analyzed the data': 0, 'Contributed reagents/materials/analysis tools': 0, 'Author Name': 'Eva Jager', 'Initials': 'EJ'}\n",
        "{'Conceived and designed the experiments': 0, 'DOI': '10.1371/journal.pone.0005260', 'Performed the experiments': 0, 'Wrote the paper': 1, 'Author Position': 1, 'Time': '2009-04-17T00:00:00Z', 'Analyzed the data': 0, 'Contributed reagents/materials/analysis tools': 0, 'Author Name': 'W Katherine Yih', 'Initials': 'WKY'}\n",
        "{'Conceived and designed the experiments': 0, 'DOI': '10.1371/journal.pone.0002299', 'Performed the experiments': 0, 'Wrote the paper': 1, 'Author Position': 1, 'Time': '2008-06-04T00:00:00Z', 'Analyzed the data': 0, 'Contributed reagents/materials/analysis tools': 0, 'Author Name': 'David Fouchet', 'Initials': 'DF'}\n",
        "{'Conceived and designed the experiments': 0, 'DOI': '10.1371/journal.pone.0057121', 'Performed the experiments': 0, 'Wrote the paper': 1, 'Author Position': 1, 'Time': '2013-02-27T00:00:00Z', 'Analyzed the data': 0, 'Contributed reagents/materials/analysis tools': 0, 'Author Name': 'Richard T Davey', 'Initials': 'RTD'}\n",
        "{'Conceived and designed the experiments': 0, 'DOI': '10.1371/journal.pone.0037245', 'Performed the experiments': 0, 'Wrote the paper': 1, 'Author Position': 1, 'Time': '2012-05-11T00:00:00Z', 'Analyzed the data': 0, 'Contributed reagents/materials/analysis tools': 0, 'Author Name': 'Sam Mavandadi', 'Initials': 'SM'}\n",
        "{'Conceived and designed the experiments': 0, 'DOI': '10.1371/journal.pone.0064562', 'Performed the experiments': 0, 'Wrote the paper': 1, 'Author Position': 1, 'Time': '2013-05-31T00:00:00Z', 'Analyzed the data': 0, 'Contributed reagents/materials/analysis tools': 0, 'Author Name': 'Wei Sun', 'Initials': 'WS'}\n",
        "{'Conceived and designed the experiments': 0, 'DOI': '10.1371/journal.pone.0015799', 'Performed the experiments': 0, 'Wrote the paper': 1, 'Author Position': 1, 'Time': '2011-01-19T00:00:00Z', 'Analyzed the data': 0, 'Contributed reagents/materials/analysis tools': 0, 'Author Name': 'Anne Rosbottom', 'Initials': 'AR'}\n",
        "{'Conceived and designed the experiments': 0, 'DOI': '10.1371/journal.pone.0045802', 'Performed the experiments': 0, 'Wrote the paper': 1, 'Author Position': 1, 'Time': '2012-09-28T00:00:00Z', 'Analyzed the data': 0, 'Contributed reagents/materials/analysis tools': 0, 'Author Name': 'Men Long Liong', 'Initials': 'MLL'}"
       ]
      },
      {
       "output_type": "stream",
       "stream": "stdout",
       "text": [
        "\n",
        "{'Conceived and designed the experiments': 0, 'DOI': '10.1371/journal.pone.0020122', 'Performed the experiments': 0, 'Wrote the paper': 1, 'Author Position': 1, 'Time': '2011-05-25T00:00:00Z', 'Analyzed the data': 0, 'Contributed reagents/materials/analysis tools': 0, 'Author Name': 'David Sargeant', 'Initials': 'DS'}\n",
        "{'Conceived and designed the experiments': 0, 'DOI': '10.1371/journal.pone.0025960', 'Performed the experiments': 0, 'Wrote the paper': 1, 'Author Position': 1, 'Time': '2011-10-11T00:00:00Z', 'Analyzed the data': 0, 'Contributed reagents/materials/analysis tools': 0, 'Author Name': 'Tatyana Yu Vatolina', 'Initials': 'TYV'}\n",
        "{'Conceived and designed the experiments': 0, 'DOI': '10.1371/journal.pone.0060172', 'Performed the experiments': 0, 'Wrote the paper': 1, 'Author Position': 1, 'Time': '2013-04-05T00:00:00Z', 'Analyzed the data': 0, 'Contributed reagents/materials/analysis tools': 0, 'Author Name': 'Jana Vokurkov\\xc3\\xa1', 'Initials': 'JV'}\n",
        "{'Conceived and designed the experiments': 0, 'DOI': '10.1371/journal.pbio.1001456', 'Performed the experiments': 0, 'Wrote the paper': 1, 'Author Position': 1, 'Time': '2012-12-27T00:00:00Z', 'Analyzed the data': 0, 'Contributed reagents/materials/analysis tools': 0, 'Author Name': 'Matthew H Bonds', 'Initials': 'MHB'}\n",
        "{'Conceived and designed the experiments': 0, 'DOI': '10.1371/journal.pone.0057133', 'Performed the experiments': 0, 'Wrote the paper': 1, 'Author Position': 1, 'Time': '2013-02-19T00:00:00Z', 'Analyzed the data': 0, 'Contributed reagents/materials/analysis tools': 0, 'Author Name': 'James W Vaupel', 'Initials': 'JWV'}\n",
        "{'Conceived and designed the experiments': 0, 'DOI': '10.1371/journal.pone.0062814', 'Performed the experiments': 0, 'Wrote the paper': 1, 'Author Position': 1, 'Time': '2013-05-13T00:00:00Z', 'Analyzed the data': 0, 'Contributed reagents/materials/analysis tools': 0, 'Author Name': 'Pintu Patra', 'Initials': 'PP'}\n",
        "{'Conceived and designed the experiments': 0, 'DOI': '10.1371/journal.pone.0008879', 'Performed the experiments': 0, 'Wrote the paper': 1, 'Author Position': 1, 'Time': '2010-01-26T00:00:00Z', 'Analyzed the data': 0, 'Contributed reagents/materials/analysis tools': 0, 'Author Name': 'Hassan Ashktorab', 'Initials': 'HA'}\n",
        "{'Conceived and designed the experiments': 0, 'DOI': '10.1371/journal.pone.0026320', 'Performed the experiments': 0, 'Wrote the paper': 1, 'Author Position': 1, 'Time': '2011-11-02T00:00:00Z', 'Analyzed the data': 0, 'Contributed reagents/materials/analysis tools': 0, 'Author Name': 'Abigail Eastburn', 'Initials': 'AE'}\n",
        "{'Conceived and designed the experiments': 0, 'DOI': '10.1371/journal.pone.0040309', 'Performed the experiments': 0, 'Wrote the paper': 1, 'Author Position': 1, 'Time': '2012-06-29T00:00:00Z', 'Analyzed the data': 0, 'Contributed reagents/materials/analysis tools': 0, 'Author Name': 'Dominique L\\xc3\\xa9vesque', 'Initials': 'DL'}\n"
       ]
      }
     ],
     "prompt_number": 33
    },
    {
     "cell_type": "code",
     "collapsed": false,
     "input": [],
     "language": "python",
     "metadata": {},
     "outputs": []
    }
   ],
   "metadata": {}
  }
 ]
}