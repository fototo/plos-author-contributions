{
 "metadata": {
  "name": "data_analyzer"
 },
 "nbformat": 3,
 "nbformat_minor": 0,
 "worksheets": [
  {
   "cells": [
    {
     "cell_type": "code",
     "collapsed": false,
     "input": [
      "import csv"
     ],
     "language": "python",
     "metadata": {},
     "outputs": [],
     "prompt_number": 1
    },
    {
     "cell_type": "code",
     "collapsed": false,
     "input": [
      "data = [];\n",
      "unique_dois = []\n",
      "\n",
      "roles = ['Conceived and designed the experiments', 'Performed the experiments', 'Analyzed the data', 'Contributed reagents/materials/analysis tools', 'Wrote the paper']\n",
      "int_fields = ['Author Position', 'Conceived and designed the experiments', 'Performed the experiments', 'Analyzed the data', 'Contributed reagents/materials/analysis tools', 'Wrote the paper']\n",
      "with open('data/plos_author_contributions.csv', 'rb') as f:\n",
      "    csvreader = csv.reader(f, delimiter=',')\n",
      "    headers = csvreader.next()\n",
      "    for row in csvreader:\n",
      "        dummy = {el:row[el_i] for el_i, el in enumerate(headers)}\n",
      "        data.append(dummy)\n",
      "        \n",
      "        unique_dois.append(dummy['DOI'])\n",
      "        \n",
      "unique_dois = set(unique_dois)\n",
      "        \n",
      "for ds_i, ds in enumerate(data):\n",
      "    for key in ds.keys():\n",
      "        if key in int_fields:\n",
      "            if len(ds[key]) > 0:\n",
      "                data[ds_i][key] = int(ds[key])\n",
      "            else:\n",
      "                # set Author Position to Zero if position wasn't detected\n",
      "                data[ds_i][key] = 0"
     ],
     "language": "python",
     "metadata": {},
     "outputs": [],
     "prompt_number": 2
    },
    {
     "cell_type": "code",
     "collapsed": false,
     "input": [
      "print headers\n",
      "print len(unique_dois)\n",
      "data[0]"
     ],
     "language": "python",
     "metadata": {},
     "outputs": [
      {
       "output_type": "stream",
       "stream": "stdout",
       "text": [
        "['DOI', 'Author Position', 'Author Name', 'Initials', 'Conceived and designed the experiments', 'Performed the experiments', 'Analyzed the data', 'Contributed reagents/materials/analysis tools', 'Wrote the paper']\n",
        "492\n"
       ]
      },
      {
       "output_type": "pyout",
       "prompt_number": 3,
       "text": [
        "{'Analyzed the data': 1,\n",
        " 'Author Name': 'Olga Pantos',\n",
        " 'Author Position': 1,\n",
        " 'Conceived and designed the experiments': 1,\n",
        " 'Contributed reagents/materials/analysis tools': 1,\n",
        " 'DOI': '10.1371/journal.pone.0020946',\n",
        " 'Initials': 'OP',\n",
        " 'Performed the experiments': 1,\n",
        " 'Wrote the paper': 1}"
       ]
      }
     ],
     "prompt_number": 3
    },
    {
     "cell_type": "heading",
     "level": 3,
     "metadata": {},
     "source": [
      "Correlation of being first author and writing paper"
     ]
    },
    {
     "cell_type": "code",
     "collapsed": false,
     "input": [
      "no_first_authors = sum(1 for ds in data if ds['Author Position'] == 1)\n",
      "no_first_authors_that_wrote = sum(1 for ds in data if ds['Author Position'] == 1 and ds['Wrote the paper'] == 1)\n",
      "no_first_authors_no_position = sum(1 for ds in data if ds['Author Position'] == 0 and ds['Wrote the paper'] == 1)\n",
      "no_undetected_position = sum(1 for ds in data if ds['Author Position'] == 0)\n",
      "\n",
      "print 'Number of first authors:',no_first_authors\n",
      "print 'Number of first authors that also wrote the paper:',no_first_authors_that_wrote\n",
      "print 'Number of first authors, no position detected:',no_first_authors_no_position\n",
      "print 'No author position detected:', no_undetected_position"
     ],
     "language": "python",
     "metadata": {},
     "outputs": [
      {
       "output_type": "stream",
       "stream": "stdout",
       "text": [
        "Number of first authors: 386\n",
        "Number of first authors that also wrote the paper: 346\n",
        "Number of first authors, no position detected: 310\n",
        "No author position detected: 630\n"
       ]
      }
     ],
     "prompt_number": 4
    },
    {
     "cell_type": "heading",
     "level": 3,
     "metadata": {},
     "source": [
      "Authors that contribute material and nothing else"
     ]
    },
    {
     "cell_type": "code",
     "collapsed": false,
     "input": [
      "non_material_roles = ['Conceived and designed the experiments', 'Performed the experiments', 'Analyzed the data', 'Wrote the paper']\n",
      "no_material_contributors = sum(1 for ds in data if ds['Contributed reagents/materials/analysis tools'] == 1 and all(ds[role] == 0 for role in non_material_roles))\n",
      "\n",
      "print 'Number of authors that only contributed material',no_material_contributors\n",
      "print 'Number of papers',len(unique_dois)"
     ],
     "language": "python",
     "metadata": {},
     "outputs": [
      {
       "output_type": "stream",
       "stream": "stdout",
       "text": [
        "Number of authors that only contributed material 1103\n",
        "Number of papers 492\n"
       ]
      }
     ],
     "prompt_number": 5
    }
   ],
   "metadata": {}
  }
 ]
}